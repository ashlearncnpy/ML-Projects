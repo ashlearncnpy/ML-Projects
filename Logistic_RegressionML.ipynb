{
 "cells": [
  {
   "cell_type": "code",
   "execution_count": 1,
   "metadata": {},
   "outputs": [],
   "source": [
    "import math\n",
    "import numpy as np\n",
    "import matplotlib.pyplot as plt\n",
    "import pandas as pd\n",
    "from sklearn.preprocessing import MinMaxScaler \n",
    "from sklearn.model_selection import train_test_split"
   ]
  },
  {
   "cell_type": "code",
   "execution_count": 11,
   "metadata": {},
   "outputs": [],
   "source": [
    "df =pd.read_csv(\"Desktop/data.csv\")"
   ]
  },
  {
   "cell_type": "code",
   "execution_count": 12,
   "metadata": {},
   "outputs": [],
   "source": [
    "X=df.values[:,2:-1].astype('float64')\n",
    "X=(X-np.mean(X,axis=0))/np.std(X,axis=0)"
   ]
  },
  {
   "cell_type": "raw",
   "metadata": {},
   "source": [
    "# Add a bias column to the data"
   ]
  },
  {
   "cell_type": "code",
   "execution_count": 14,
   "metadata": {},
   "outputs": [],
   "source": [
    "X=np.hstack([np.ones((X.shape[0],1)),X])\n",
    "X=MinMaxScaler().fit_transform(X)\n",
    "Y=df[\"diagnosis\"].map({'M':1,'B':0})\n",
    "Y=np.array(Y)\n",
    "X_train, X_test, Y_train, Y_test=train_test_split(X,Y,test_size=0.25)"
   ]
  },
  {
   "cell_type": "code",
   "execution_count": 16,
   "metadata": {},
   "outputs": [],
   "source": [
    "def Sigmoid(z):\n",
    "    return 1/(1+np.exp(-z))"
   ]
  },
  {
   "cell_type": "code",
   "execution_count": 18,
   "metadata": {},
   "outputs": [],
   "source": [
    "def Hypothesis(theta,x):\n",
    "    return(x @ theta)"
   ]
  },
  {
   "cell_type": "code",
   "execution_count": 19,
   "metadata": {},
   "outputs": [],
   "source": [
    "def Cost_Function(X,Y,theta,m):\n",
    "    hi=Hypothesis(theta,X)\n",
    "    _y=Y.reshape(-1,1)\n",
    "    J=1/float(m)*np.sum(-_y*np.log(hi)-(1- _y)*np.log(1-hi))\n",
    "    return J"
   ]
  },
  {
   "cell_type": "code",
   "execution_count": 20,
   "metadata": {},
   "outputs": [],
   "source": [
    "def Cost_Function_Derivative(X,Y,theta,m,alpha):\n",
    "    hi=Hypothesis(theta,X)\n",
    "    _y=Y.reshape(-1,1)\n",
    "    J=alpha/float(m)*X.T@(hi- _y)\n",
    "    return J"
   ]
  },
  {
   "cell_type": "code",
   "execution_count": 31,
   "metadata": {},
   "outputs": [],
   "source": [
    "def Gredient_Descent(X,Y,theta,m,alpha):\n",
    "    new_theta=theta-Cost_Function_Derivative(X,Y,theta,m,alpha)\n",
    "    return new_theta"
   ]
  },
  {
   "cell_type": "code",
   "execution_count": 35,
   "metadata": {},
   "outputs": [],
   "source": [
    "def Accuracy(theta):\n",
    "    correct=0\n",
    "    length=len(X_test)\n",
    "    prediction=(Hypothesis(theta,X_test)>0.5)\n",
    "    _y=Y_test.reshape(-1,1)\n",
    "    correct=prediction==_y\n",
    "    my_accuracy=(np.sum(correct)/length)*100\n",
    "    print('LR Accuracy %', my_accuracy)"
   ]
  },
  {
   "cell_type": "code",
   "execution_count": 39,
   "metadata": {},
   "outputs": [],
   "source": [
    "def Logistic_Regression(X,Y,alpha,theta,num_iters):\n",
    "    m=len(Y)\n",
    "    for x in range(num_iters):\n",
    "        new_theta=Gredient_Descent(X,Y,theta,m,alpha)\n",
    "        theta=new_theta\n",
    "        if x%100==0:\n",
    "            print('cost:',Cost_Function(X,Y,theta,m))\n",
    "    Accuracy(theta)        \n",
    "            "
   ]
  },
  {
   "cell_type": "code",
   "execution_count": 37,
   "metadata": {},
   "outputs": [
    {
     "name": "stdout",
     "output_type": "stream",
     "text": [
      "cost: nan\n",
      "cost: nan\n",
      "cost: nan\n",
      "cost: nan\n",
      "cost: nan\n",
      "cost: nan\n",
      "cost: nan\n",
      "cost: nan\n",
      "cost: nan\n",
      "cost: nan\n",
      "cost: nan\n",
      "cost: nan\n",
      "cost: nan\n",
      "cost: nan\n",
      "cost: nan\n",
      "cost: nan\n",
      "cost: nan\n",
      "cost: nan\n",
      "cost: nan\n",
      "cost: nan\n",
      "LR Accuracy % 90.20979020979021\n"
     ]
    },
    {
     "name": "stderr",
     "output_type": "stream",
     "text": [
      "C:\\Users\\698243\\AppData\\Local\\Continuum\\anaconda3\\lib\\site-packages\\ipykernel_launcher.py:4: RuntimeWarning: invalid value encountered in log\n",
      "  after removing the cwd from sys.path.\n"
     ]
    }
   ],
   "source": [
    "ep= .012\n",
    "intial_theta=np.random.rand(X_train.shape[1],1)*2*ep-ep\n",
    "alpha=0.5\n",
    "iterations=2000\n",
    "Logistic_Regression(X_train,Y_train,alpha,intial_theta,iterations)\n"
   ]
  },
  {
   "cell_type": "code",
   "execution_count": null,
   "metadata": {},
   "outputs": [],
   "source": []
  }
 ],
 "metadata": {
  "kernelspec": {
   "display_name": "Python 3",
   "language": "python",
   "name": "python3"
  },
  "language_info": {
   "codemirror_mode": {
    "name": "ipython",
    "version": 3
   },
   "file_extension": ".py",
   "mimetype": "text/x-python",
   "name": "python",
   "nbconvert_exporter": "python",
   "pygments_lexer": "ipython3",
   "version": "3.6.4"
  }
 },
 "nbformat": 4,
 "nbformat_minor": 2
}
